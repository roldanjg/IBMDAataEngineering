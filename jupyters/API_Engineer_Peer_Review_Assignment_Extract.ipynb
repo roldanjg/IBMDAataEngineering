{
 "cells": [
  {
   "cell_type": "markdown",
   "metadata": {},
   "source": [
    "<p style=\"text-align:center\">\n",
    "    <a href=\"https://skills.network/?utm_medium=Exinfluencer&utm_source=Exinfluencer&utm_content=000026UJ&utm_term=10006555&utm_id=NA-SkillsNetwork-Channel-SkillsNetworkCoursesIBMDeveloperSkillsNetworkPY0221ENSkillsNetwork23455645-2022-01-01\" target=\"_blank\">\n",
    "    <img src=\"https://cf-courses-data.s3.us.cloud-object-storage.appdomain.cloud/assets/logos/SN_web_lightmode.png\" width=\"200\" alt=\"Skills Network Logo\"  />\n",
    "    </a>\n",
    "</p>\n"
   ]
  },
  {
   "cell_type": "markdown",
   "metadata": {},
   "source": [
    "# Peer Review Assignment - Data Engineer - Extract API Data\n"
   ]
  },
  {
   "cell_type": "markdown",
   "metadata": {},
   "source": [
    "Estimated time needed: **20** minutes\n"
   ]
  },
  {
   "cell_type": "markdown",
   "metadata": {},
   "source": [
    "## Objectives\n",
    "\n",
    "In this part you will:\n",
    "\n",
    "*   Collect exchange rate data using an API\n",
    "*   Store the data as a CSV\n"
   ]
  },
  {
   "cell_type": "markdown",
   "metadata": {},
   "source": [
    "For this lab, we are going to be using Python and several Python libraries. Some of these libraries might be installed in your lab environment or in SN Labs. Others may need to be installed by you. The cells below will install these libraries when executed.\n"
   ]
  },
  {
   "cell_type": "code",
   "execution_count": null,
   "metadata": {},
   "outputs": [],
   "source": [
    "#!mamba install pandas==1.3.3 -y\n",
    "#!mamba install requests==2.26.0 -y"
   ]
  },
  {
   "cell_type": "markdown",
   "metadata": {},
   "source": [
    "## Imports\n",
    "\n",
    "Import any additional libraries you may need here.\n"
   ]
  },
  {
   "cell_type": "code",
   "execution_count": 11,
   "metadata": {},
   "outputs": [],
   "source": [
    "import requests\n",
    "import pandas as pd\n",
    "import json"
   ]
  },
  {
   "cell_type": "markdown",
   "metadata": {},
   "source": [
    "## Extract Data Using an API\n"
   ]
  },
  {
   "cell_type": "markdown",
   "metadata": {},
   "source": [
    "Using ExchangeRate-API we will extract currency exchange rate data. Use the below steps to get the access key and to get the data.\n",
    "\n",
    "1.  Open the url : [https://exchangeratesapi.io/](https://exchangeratesapi.io/?utm_medium=Exinfluencer&utm_source=Exinfluencer&utm_content=000026UJ&utm_term=10006555&utm_id=NA-SkillsNetwork-Channel-SkillsNetworkCoursesIBMDeveloperSkillsNetworkPY0221ENSkillsNetwork23455645-2022-01-01) and click on **Get Free API Key**.\n",
    "2.  Subscribe for Free plan and Sign-in with the Google Account.\n",
    "3.  Once the account is created you will be redirected to [https://apilayer.com](https://apilayer.com/?utm_medium=Exinfluencer&utm_source=Exinfluencer&utm_content=000026UJ&utm_term=10006555&utm_id=NA-SkillsNetwork-Channel-SkillsNetworkCoursesIBMDeveloperSkillsNetworkPY0221ENSkillsNetwork23455645-2022-01-01) website.\n",
    "4.  Now, click on the **user icon** and click **Account** as shown below:\n",
    "\n",
    "<img src=\"https://cf-courses-data.s3.us.cloud-object-storage.appdomain.cloud/IBMDeveloperSkillsNetwork-PY0221EN-SkillsNetwork/labs/module%206/Final%20Assignment/Images/account.png\"/>\n",
    "\n",
    "3.  Scroll down and you will get the API Key section. Copy the API key and use in the url in Question 1.\n"
   ]
  },
  {
   "cell_type": "markdown",
   "metadata": {},
   "source": [
    "### Call the API\n",
    "\n",
    "<b> Question 1</b> Using the `requests` library call the endpoint given above and save the text, remember the first few characters of the output:\n"
   ]
  },
  {
   "cell_type": "code",
   "execution_count": 5,
   "metadata": {},
   "outputs": [],
   "source": [
    "# Write your code here\n",
    "url = \"https://api.apilayer.com/exchangerates_data/latest?base=EUR&apikey=KlA66xL3uCUqQAvZtgluHk10g63YFvMu\""
   ]
  },
  {
   "cell_type": "markdown",
   "metadata": {},
   "source": [
    "### Save as DataFrame\n",
    "\n",
    "<b> Question 2</b>  Using the data gathered turn it into a `pandas` dataframe. The dataframe should have the Currency as the index and `Rate` as their columns. Make sure to drop unnecessary columns.\n"
   ]
  },
  {
   "cell_type": "code",
   "execution_count": 16,
   "metadata": {},
   "outputs": [],
   "source": [
    "# Turn the data into a dataframe\n",
    "data = requests.get(url)\n",
    "results = json.loads(data.text)"
   ]
  },
  {
   "cell_type": "code",
   "execution_count": 25,
   "metadata": {},
   "outputs": [
    {
     "data": {
      "text/plain": [
       "'{\\n    \"success\": true,\\n    \"timestamp\": 1656675004,\\n    \"base\": \"EUR\",\\n    \"date\": \"2022-07-01\",\\n    \"rates\": {\\n        \"AED\": 3.840667,\\n        \"AFN\": 91.70722,\\n        \"ALL\": 119.220825,\\n        \"AMD\": 423.979623,\\n        \"ANG\": 1.883959,\\n        \"AOA\": 447.743629,\\n        \"ARS\": 130.937009,\\n        \"AUD\": 1.538144,\\n        \"AWG\": 1.879503,\\n        \"AZN\": 1.77286,\\n        \"BAM\": 1.956411,\\n        \"BBD\": 2.110626,\\n        \"BDT\": 97.713602,\\n        \"BGN\": 1.953993,\\n        \"BHD\": 0.394181,\\n        \"BIF\": 2151.558606,\\n        \"BMD\": 1.04562,\\n        \"BND\": 1.458033,\\n        \"BOB\": 7.186733,\\n        \"BRL\": 5.493062,\\n        \"BSD\": 1.04531,\\n        \"BTC\": 5.4594937e-05,\\n        \"BTN\": 82.516792,\\n        \"BWP\": 13.018164,\\n        \"BYN\": 3.529613,\\n        \"BYR\": 20494.158893,\\n        \"BZD\": 2.107125,\\n        \"CAD\": 1.350607,\\n        \"CDF\": 2093.856387,\\n        \"CHF\": 1.003466,\\n        \"CLF\": 0.03474,\\n        \"CLP\": 958.572409,\\n        \"CNY\": 7.00607,\\n        \"COP\": 4344.678036,\\n        \"CRC\": 716.962802,\\n        \"CUC\": 1.04562,\\n        \"CUP\": 27.708939,\\n        \"CVE\": 110.293517,\\n        \"CZK\": 24.748811,\\n        \"DJF\": 186.097015,\\n        \"DKK\": 7.439307,\\n        \"DOP\": 57.263997,\\n        \"DZD\": 153.091927,\\n        \"EGP\": 19.659383,\\n        \"ERN\": 15.684306,\\n        \"ETB\": 54.523105,\\n        \"EUR\": 1,\\n        \"FJD\": 2.298117,\\n        \"FKP\": 0.858558,\\n        \"GBP\": 0.867762,\\n        \"GEL\": 3.073913,\\n        \"GGP\": 0.858558,\\n        \"GHS\": 8.435581,\\n        \"GIP\": 0.858558,\\n        \"GMD\": 56.557724,\\n        \"GNF\": 9081.047962,\\n        \"GTQ\": 8.104005,\\n        \"GYD\": 218.704914,\\n        \"HKD\": 8.204722,\\n        \"HNL\": 25.696627,\\n        \"HRK\": 7.530658,\\n        \"HTG\": 120.161665,\\n        \"HUF\": 399.856141,\\n        \"IDR\": 15639.866411,\\n        \"ILS\": 3.677394,\\n        \"IMP\": 0.858558,\\n        \"INR\": 82.558052,\\n        \"IQD\": 1525.68284,\\n        \"IRR\": 44282.022127,\\n        \"ISK\": 138.701844,\\n        \"JEP\": 0.858558,\\n        \"JMD\": 157.37171,\\n        \"JOD\": 0.742909,\\n        \"JPY\": 141.343301,\\n        \"KES\": 123.257943,\\n        \"KGS\": 83.126747,\\n        \"KHR\": 4254.562801,\\n        \"KMF\": 485.82133,\\n        \"KPW\": 941.058153,\\n        \"KRW\": 1355.343752,\\n        \"KWD\": 0.320765,\\n        \"KYD\": 0.871059,\\n        \"KZT\": 485.395502,\\n        \"LAK\": 15698.459477,\\n        \"LBP\": 1580.56913,\\n        \"LKR\": 376.324497,\\n        \"LRD\": 159.452034,\\n        \"LSL\": 16.562645,\\n        \"LTL\": 3.087445,\\n        \"LVL\": 0.632485,\\n        \"LYD\": 5.050699,\\n        \"MAD\": 10.51292,\\n        \"MDL\": 20.018342,\\n        \"MGA\": 4262.395126,\\n        \"MKD\": 61.630935,\\n        \"MMK\": 1935.456865,\\n        \"MNT\": 3266.609574,\\n        \"MOP\": 8.449069,\\n        \"MRO\": 373.286286,\\n        \"MUR\": 46.581943,\\n        \"MVR\": 16.050228,\\n        \"MWK\": 1072.979472,\\n        \"MXN\": 21.155127,\\n        \"MYR\": 4.608026,\\n        \"MZN\": 66.742233,\\n        \"NAD\": 16.562973,\\n        \"NGN\": 434.214835,\\n        \"NIO\": 37.481125,\\n        \"NOK\": 10.365648,\\n        \"NPR\": 132.027187,\\n        \"NZD\": 1.694475,\\n        \"OMR\": 0.402577,\\n        \"PAB\": 1.04531,\\n        \"PEN\": 4.001988,\\n        \"PGK\": 3.683464,\\n        \"PHP\": 57.623616,\\n        \"PKR\": 213.903789,\\n        \"PLN\": 4.717787,\\n        \"PYG\": 7154.323482,\\n        \"QAR\": 3.807154,\\n        \"RON\": 4.946412,\\n        \"RSD\": 117.365645,\\n        \"RUB\": 57.012457,\\n        \"RWF\": 1069.217356,\\n        \"SAR\": 3.923851,\\n        \"SBD\": 8.532229,\\n        \"SCR\": 13.441362,\\n        \"SDG\": 477.323285,\\n        \"SEK\": 10.779488,\\n        \"SGD\": 1.45828,\\n        \"SHP\": 1.440235,\\n        \"SLL\": 13770.820186,\\n        \"SOS\": 611.164211,\\n        \"SRD\": 23.362289,\\n        \"STD\": 21642.230181,\\n        \"SVC\": 9.146715,\\n        \"SYP\": 2627.152889,\\n        \"SZL\": 17.109678,\\n        \"THB\": 37.259113,\\n        \"TJS\": 10.270155,\\n        \"TMT\": 3.670127,\\n        \"TND\": 3.203262,\\n        \"TOP\": 2.450971,\\n        \"TRY\": 17.502431,\\n        \"TTD\": 7.101208,\\n        \"TWD\": 31.166282,\\n        \"TZS\": 2434.930875,\\n        \"UAH\": 30.887186,\\n        \"UGX\": 3914.861974,\\n        \"USD\": 1.04562,\\n        \"UYU\": 41.275251,\\n        \"UZS\": 11341.672461,\\n        \"VEF\": 223585232285.2827,\\n        \"VND\": 24378.6385,\\n        \"VUV\": 121.512412,\\n        \"WST\": 2.765375,\\n        \"XAF\": 656.164308,\\n        \"XAG\": 0.052999,\\n        \"XAU\": 0.000584,\\n        \"XCD\": 2.825841,\\n        \"XDR\": 0.787249,\\n        \"XOF\": 656.126646,\\n        \"XPF\": 118.312122,\\n        \"YER\": 261.666071,\\n        \"ZAR\": 17.105716,\\n        \"ZMK\": 9411.84023,\\n        \"ZMW\": 17.431174,\\n        \"ZWL\": 336.689327\\n    }\\n}\\n'"
      ]
     },
     "execution_count": 25,
     "metadata": {},
     "output_type": "execute_result"
    }
   ],
   "source": [
    "data.text"
   ]
  },
  {
   "cell_type": "code",
   "execution_count": 17,
   "metadata": {},
   "outputs": [],
   "source": [
    "dataFrame = pd.DataFrame(results, use)"
   ]
  },
  {
   "cell_type": "code",
   "execution_count": 21,
   "metadata": {},
   "outputs": [],
   "source": [
    "# Drop unnescessary columns\n",
    "dataFrame = dataFrame.drop(columns=['success','timestamp','base','date'])\n"
   ]
  },
  {
   "cell_type": "markdown",
   "metadata": {},
   "source": [
    "### Load the Data\n",
    "\n",
    "Using the dataframe save it as a CSV names `exchange_rates_1.csv`.\n"
   ]
  },
  {
   "cell_type": "code",
   "execution_count": 23,
   "metadata": {},
   "outputs": [],
   "source": [
    "# Save the Dataframe\n",
    "dataFrame.to_csv('exchange_rates_1.csv')\n"
   ]
  },
  {
   "cell_type": "markdown",
   "metadata": {},
   "source": [
    "Your CSV should be in this format with more currencies\n",
    "\n",
    "|     | Rates      |\n",
    "| --- | ---------- |\n",
    "| AED | 4.398618   |\n",
    "| AFN | 92.917693  |\n",
    "| ALL | 123.099093 |\n",
    "| AMD | 621.935674 |\n",
    "| ANG | 2.149648   |\n"
   ]
  },
  {
   "cell_type": "markdown",
   "metadata": {},
   "source": [
    "## Authors\n"
   ]
  },
  {
   "cell_type": "markdown",
   "metadata": {},
   "source": [
    "Ramesh Sannareddy, Joseph Santarcangelo and Azim Hirjani\n"
   ]
  },
  {
   "cell_type": "markdown",
   "metadata": {},
   "source": [
    "### Other Contributors\n"
   ]
  },
  {
   "cell_type": "markdown",
   "metadata": {},
   "source": [
    "Rav Ahuja\n"
   ]
  },
  {
   "cell_type": "markdown",
   "metadata": {},
   "source": [
    "## Change Log\n"
   ]
  },
  {
   "cell_type": "markdown",
   "metadata": {},
   "source": [
    "| Date (YYYY-MM-DD) | Version | Changed By        | Change Description                              |\n",
    "| ----------------- | ------- | ----------------- | ----------------------------------------------- |\n",
    "| 2022-05-06        | 0.3     | Malika            | Updated instructions to get the API and the url |\n",
    "| 2021-04-15        | 0.2     | Malika            | Updated the lab from USD to EUR                 |\n",
    "| 2020-11-25        | 0.1     | Ramesh Sannareddy | Created initial version of the lab              |\n"
   ]
  },
  {
   "cell_type": "markdown",
   "metadata": {},
   "source": [
    "Copyright © 2020 IBM Corporation. This notebook and its source code are released under the terms of the [MIT License](https://cognitiveclass.ai/mit-license?utm_medium=Exinfluencer&utm_source=Exinfluencer&utm_content=000026UJ&utm_term=10006555&utm_id=NA-SkillsNetwork-Channel-SkillsNetworkCoursesIBMDeveloperSkillsNetworkPY0221ENSkillsNetwork23455645-2022-01-01&cm_mmc=Email_Newsletter-\\_-Developer_Ed%2BTech-\\_-WW_WW-\\_-SkillsNetwork-Courses-IBM-DA0321EN-SkillsNetwork-21426264&cm_mmca1=000026UJ&cm_mmca2=10006555&cm_mmca3=M12345678&cvosrc=email.Newsletter.M12345678&cvo_campaign=000026UJ).\n"
   ]
  }
 ],
 "metadata": {
  "kernelspec": {
   "display_name": "Python",
   "language": "python",
   "name": "conda-env-python-py"
  },
  "language_info": {
   "codemirror_mode": {
    "name": "ipython",
    "version": 3
   },
   "file_extension": ".py",
   "mimetype": "text/x-python",
   "name": "python",
   "nbconvert_exporter": "python",
   "pygments_lexer": "ipython3",
   "version": "3.7.12"
  }
 },
 "nbformat": 4,
 "nbformat_minor": 4
}
